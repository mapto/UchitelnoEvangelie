{
 "cells": [
  {
   "cell_type": "code",
   "execution_count": null,
   "id": "f98e42cc",
   "metadata": {},
   "outputs": [],
   "source": [
    "from typing import Dict, List, Optional\n",
    "from sortedcontainers import SortedDict  # type: ignore\n",
    "import os\n",
    "\n",
    "import ipysheet as sheet\n",
    "from IPython.display import display, HTML\n",
    "import mammoth\n",
    "\n",
    "from const import IDX_COL, STYLE_COL\n",
    "from config import FROM_LANG, TO_LANG\n",
    "from setup import sl_sem, gr_sem\n",
    "\n",
    "from util import ord_word\n",
    "from semantics import TableSemantics\n",
    "from hiliting import _hilited_col\n",
    "\n",
    "from merger import merge\n",
    "from aggregator import aggregate\n",
    "from exporter import export_docx\n",
    "from generator import generate_docx"
   ]
  },
  {
   "cell_type": "code",
   "execution_count": null,
   "id": "928aaf25",
   "metadata": {},
   "outputs": [],
   "source": [
    "sla = SortedDict(ord_word)\n",
    "gre = SortedDict(ord_word)\n",
    "\n",
    "pairs = [\n",
    "    TableSemantics(sl_sem, gr_sem, label=\"от славянски основен към гръцки\", result=sla),\n",
    "    TableSemantics(\n",
    "        sl_sem.var, gr_sem, label=\"от славянски вариант към гръцки\", result=sla\n",
    "    ),\n",
    "    TableSemantics(gr_sem, sl_sem, label=\"от гръцки основен към славянски\", result=gre),\n",
    "    TableSemantics(\n",
    "        gr_sem.var, sl_sem, label=\"от гръцки вариант към славянски\", result=gre\n",
    "    ),\n",
    "]\n",
    "sem = pairs[0]"
   ]
  },
  {
   "cell_type": "code",
   "execution_count": null,
   "id": "29eca086",
   "metadata": {},
   "outputs": [],
   "source": [
    "def _style2str(s: Dict[str, str], bgs: Dict[str, Optional[str]]) -> str:\n",
    "    \"\"\"take font style from index and presence of background in selected named columns\"\"\"\n",
    "    result = [k for k, v in bgs.items() if v]\n",
    "    if s and s[\"fontWeight\"] == \"bold\":\n",
    "        result.append(\"bold\")\n",
    "    if s and s[\"fontStyle\"] == \"italic\":\n",
    "        result.append(\"italic\")\n",
    "    return \"|\".join(result)\n",
    "\n",
    "\n",
    "def hilite(row, c):\n",
    "    color = _hilited_col(row, c)\n",
    "    if color:\n",
    "        return f\"#{color[2:]}\" if len(color) == 8 else f\"#{color}\"\n",
    "    return None\n",
    "\n",
    "\n",
    "def bold(c, style=None):\n",
    "    if c != IDX_COL:\n",
    "        return None\n",
    "    if not style:\n",
    "        return None\n",
    "    if \"bold\" in style:\n",
    "        return \"bold\"\n",
    "    return None\n",
    "\n",
    "\n",
    "def italic(c, style=None):\n",
    "    if c != IDX_COL:\n",
    "        return None\n",
    "    if not style:\n",
    "        return None\n",
    "    if \"italic\" in style:\n",
    "        return \"italic\"\n",
    "    return None\n",
    "\n",
    "\n",
    "def pp_row(row: List[str]) -> str:\n",
    "    style = \"style='font-family: CyrillicaOchrid10U; background: white; border:1px solid lightgrey'\"\n",
    "    glue = f\"</td><td {style}>\"\n",
    "    return f\"\"\"<tr><td {style}>{glue.join(row)}</td><tr>\"\"\"\n",
    "\n",
    "\n",
    "def pp_group(rows: List[List[str]]) -> str:\n",
    "    style = \"\"  #'<style>td{font-family: CyrillicaOchrid10U; background: white; border:1px solid lightgrey;}</style>'\n",
    "    return f'{style}<table>{\"\".join(pp_row(r) for r in rows)}</table>'"
   ]
  },
  {
   "cell_type": "markdown",
   "id": "bdfdf521-d894-4938-84a6-cda08935d80b",
   "metadata": {},
   "source": [
    "# Manual data insertion"
   ]
  },
  {
   "cell_type": "raw",
   "id": "bbff171b-3c01-4ee7-838e-9c8887edc2a2",
   "metadata": {},
   "source": [
    "rows = [\n",
    "    [\"бꙑше H\", \"бꙑт\\ue205\", \"\", \"gramm.\", \"25/123b05\"]\n",
    "    + [\"om.\", \"\"] * 2\n",
    "    + [\"\"] * 3\n",
    "    + [\"gramm.\"]\n",
    "    + [\"\"] * 13\n",
    "    + [\"hl00:FFF8CBAD|hl03:FFBDD7EE\"]\n",
    "    + [\"1\"] * 4,\n",
    "    [\"рекл\\ue205 H\"]\n",
    "    + [\"\"] * 3\n",
    "    + [\"25/123b05\", \"рѣша\", \"ко г\\ue010лще рѣша• ꙗ-\", \"рещ\\ue205\"]\n",
    "    + [\"\"] * 3\n",
    "    + [\"φασὶν\", \"φημί\"]\n",
    "    + [\"\"] * 13\n",
    "    + [\"hl00:FFF8CBAD\"]\n",
    "    + [\"1\"] * 4,\n",
    "]"
   ]
  },
  {
   "cell_type": "markdown",
   "id": "6a0bcf02-c3ba-4231-8f3b-05a14376de8f",
   "metadata": {},
   "source": [
    "# Read insertion from file"
   ]
  },
  {
   "cell_type": "code",
   "execution_count": null,
   "id": "cf2c56e6-7958-40a6-afc6-d9c1f5598d14",
   "metadata": {},
   "outputs": [],
   "source": [
    "from importer import import_mapping\n",
    "# fname = \"/home/mapto/Dropbox/uchitelno-evangelie/paper/sofia2023/adaptation-1-prilezhanie-2x2.xlsx\"\n",
    "fname = \"/home/mapto/Dropbox/uchitelno-evangelie/paper/sofia2023/aggregation-1-pateshestvie-groupvar.xlsx\"\n",
    "rows = import_mapping(fname, sem)\n",
    "rows = [[c.strip() if c else \"\" for c in r] for r in rows if any(r)]\n",
    "print(rows)"
   ]
  },
  {
   "cell_type": "markdown",
   "id": "d04073f6-1a4e-4609-b26e-4feb97e65c1b",
   "metadata": {},
   "source": [
    "Note: Seems to work with Chrome only"
   ]
  },
  {
   "cell_type": "code",
   "execution_count": null,
   "id": "b293e01c-30ed-4b08-8c6f-0a33288e5e08",
   "metadata": {},
   "outputs": [],
   "source": [
    "input = sheet.sheet(rows=len(rows) + 1, columns=STYLE_COL)\n",
    "# styled = sheet.cell(1, 9, background_color=\"lightblue\")\n",
    "# rows = sheet.cell_range(rows)\n",
    "cells = [\n",
    "    [\n",
    "        sheet.cell(\n",
    "            r,\n",
    "            c,\n",
    "            rows[r][c],\n",
    "            background_color=hilite(vr, c),\n",
    "            font_style=italic(c, vr[STYLE_COL]),\n",
    "            font_weight=bold(c, vr[STYLE_COL]),\n",
    "        )\n",
    "        for c, vc in enumerate(vr[:STYLE_COL])\n",
    "    ]\n",
    "    for r, vr in enumerate(rows)\n",
    "]\n",
    "input"
   ]
  },
  {
   "cell_type": "markdown",
   "id": "15dc4899",
   "metadata": {},
   "source": [
    "# Preprocess lines"
   ]
  },
  {
   "cell_type": "code",
   "execution_count": null,
   "id": "f9ce4ef1",
   "metadata": {},
   "outputs": [],
   "source": [
    "lines = []\n",
    "blank = False\n",
    "for row in cells:\n",
    "    line = [cell.value.strip() if cell.value else cell.value for cell in row]\n",
    "    # Two consequent blank lines\n",
    "    if blank and not [l for l in line if l]:\n",
    "        break\n",
    "    irow = [v for v in row]\n",
    "    bgs = {\n",
    "        f\"hl{v:02d}\": irow[v].style[\"backgroundColor\"]\n",
    "        for v in sem.cols()\n",
    "        if \"backgroundColor\" in irow[v].style\n",
    "    }\n",
    "    line.append(_style2str(row[IDX_COL].style, bgs))\n",
    "    lines.append(line)\n",
    "    blank = not [l for l in line if l]\n",
    "print(f\"{len(lines)} думи\")\n"
   ]
  },
  {
   "cell_type": "code",
   "execution_count": null,
   "id": "95ea500a-afd3-4070-88b3-8e974317187a",
   "metadata": {},
   "outputs": [],
   "source": [
    "intermediary = {}\n",
    "for p in pairs:\n",
    "    print(f\"Събиране на многоредови преводи {p.label}...\")\n",
    "    # merged = merge(lines, p.orig, p.trans)\n",
    "    merged = merge(rows, p.orig, p.trans)\n",
    "    print(f\"{len(merged)} думи\")\n",
    "    intermediary[p.label] = [m[:STYLE_COL] for m in merged]\n",
    "    # intermediary[p.label] = merged\n",
    "    \n",
    "    print(f\"Кондензиране {p.label}...\")\n",
    "    before = len(p.result)\n",
    "    p.result = aggregate(merged, p.orig, p.trans, p.result)\n",
    "    after = len(p.result)\n",
    "    print(f\"{after-before} леми\")"
   ]
  },
  {
   "cell_type": "markdown",
   "id": "b83e26d9-7e8e-4822-9b8e-8591a8b6fb51",
   "metadata": {},
   "source": [
    "# Inspection of intermediary lines"
   ]
  },
  {
   "cell_type": "code",
   "execution_count": null,
   "id": "dbac9b3b-994f-45e3-80db-5c81e7128ccf",
   "metadata": {},
   "outputs": [],
   "source": [
    "for label, table in intermediary.items():\n",
    "    print(label)\n",
    "    display(HTML(pp_group(table)))"
   ]
  },
  {
   "cell_type": "code",
   "execution_count": null,
   "id": "332a8a67",
   "metadata": {},
   "outputs": [],
   "source": [
    "export_fname = \"temp.docx\""
   ]
  },
  {
   "cell_type": "markdown",
   "id": "559aa622",
   "metadata": {},
   "source": [
    "# Export Slavic..."
   ]
  },
  {
   "cell_type": "code",
   "execution_count": null,
   "id": "241deb57",
   "metadata": {},
   "outputs": [],
   "source": [
    "export_docx(sla, FROM_LANG, export_fname)\n",
    "with open(export_fname, \"rb\") as docx_file:\n",
    "    result = mammoth.convert_to_html(docx_file)\n",
    "    print(result.messages)  # Any messages, such as warnings during conversion\n",
    "    display(HTML(result.value))"
   ]
  },
  {
   "cell_type": "markdown",
   "id": "2de3feb5",
   "metadata": {},
   "source": [
    "# Export Greek..."
   ]
  },
  {
   "cell_type": "code",
   "execution_count": null,
   "id": "979b4251",
   "metadata": {},
   "outputs": [],
   "source": [
    "export_docx(gre, TO_LANG, export_fname)\n",
    "with open(export_fname, \"rb\") as docx_file:\n",
    "    result = mammoth.convert_to_html(docx_file)\n",
    "    print(result.messages)  # Any messages, such as warnings during conversion\n",
    "    display(HTML(result.value))"
   ]
  },
  {
   "cell_type": "markdown",
   "id": "75ee4744",
   "metadata": {},
   "source": [
    "# Generation Slavic..."
   ]
  },
  {
   "cell_type": "code",
   "execution_count": null,
   "id": "3e9cfe80",
   "metadata": {},
   "outputs": [],
   "source": [
    "generate_docx(sla, FROM_LANG, export_fname)\n",
    "with open(export_fname, \"rb\") as docx_file:\n",
    "    result = mammoth.convert_to_html(docx_file)\n",
    "    print(result.messages)  # Any messages, such as warnings during conversion\n",
    "    display(HTML(result.value))"
   ]
  },
  {
   "cell_type": "markdown",
   "id": "d3003786",
   "metadata": {},
   "source": [
    "# Generation Greek..."
   ]
  },
  {
   "cell_type": "code",
   "execution_count": null,
   "id": "a33f8821",
   "metadata": {},
   "outputs": [],
   "source": [
    "generate_docx(gre, TO_LANG, export_fname)\n",
    "with open(export_fname, \"rb\") as docx_file:\n",
    "    result = mammoth.convert_to_html(docx_file)\n",
    "    print(result.messages)  # Any messages, such as warnings during conversion\n",
    "    display(HTML(result.value))"
   ]
  },
  {
   "cell_type": "code",
   "execution_count": null,
   "id": "95f8fdd5",
   "metadata": {},
   "outputs": [],
   "source": [
    "os.remove(export_fname)"
   ]
  }
 ],
 "metadata": {
  "kernelspec": {
   "display_name": "Python 3 (ipykernel)",
   "language": "python",
   "name": "python3"
  },
  "language_info": {
   "codemirror_mode": {
    "name": "ipython",
    "version": 3
   },
   "file_extension": ".py",
   "mimetype": "text/x-python",
   "name": "python",
   "nbconvert_exporter": "python",
   "pygments_lexer": "ipython3",
   "version": "3.10.12"
  }
 },
 "nbformat": 4,
 "nbformat_minor": 5
}
