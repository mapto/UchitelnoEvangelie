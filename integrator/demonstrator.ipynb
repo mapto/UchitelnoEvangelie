{
 "cells": [
  {
   "cell_type": "code",
   "execution_count": null,
   "id": "d7e077e5",
   "metadata": {},
   "outputs": [],
   "source": [
    "from typing import Dict, Optional\n",
    "from sortedcontainers import SortedDict  # type: ignore\n",
    "import os\n",
    "\n",
    "import ipysheet as sheet\n",
    "from IPython.display import display, HTML\n",
    "import mammoth\n",
    "\n",
    "from const import IDX_COL, STYLE_COL\n",
    "from config import FROM_LANG, TO_LANG\n",
    "from setup import sl_sem, gr_sem\n",
    "\n",
    "from util import ord_word\n",
    "from semantics import TableSemantics\n",
    "from hiliting import _hilited_col\n",
    "\n",
    "from merger import merge\n",
    "from aggregator import aggregate\n",
    "from exporter import export_docx\n",
    "from generator import generate_docx"
   ]
  },
  {
   "cell_type": "code",
   "execution_count": null,
   "id": "3d8a5b72",
   "metadata": {},
   "outputs": [],
   "source": [
    "sla = SortedDict(ord_word)\n",
    "gre = SortedDict(ord_word)\n",
    "\n",
    "pairs = [\n",
    "    TableSemantics(sl_sem, gr_sem, label=\"от славянски основен към гръцки\", result=sla),\n",
    "    TableSemantics(\n",
    "        sl_sem.var, gr_sem, label=\"от славянски вариант към гръцки\", result=sla\n",
    "    ),\n",
    "    TableSemantics(gr_sem, sl_sem, label=\"от гръцки основен към славянски\", result=gre),\n",
    "    TableSemantics(\n",
    "        gr_sem.var, sl_sem, label=\"от гръцки вариант към славянски\", result=gre\n",
    "    ),\n",
    "]\n",
    "sem = pairs[0]"
   ]
  },
  {
   "cell_type": "code",
   "execution_count": null,
   "id": "4d65f07e",
   "metadata": {},
   "outputs": [],
   "source": [
    "def _style2str(s: Dict[str, str], bgs: Dict[str, Optional[str]]) -> str:\n",
    "    \"\"\"take font style from index and presence of background in selected named columns\"\"\"\n",
    "    result = [k for k, v in bgs.items() if v]\n",
    "    if s and s[\"fontWeight\"] == \"bold\":\n",
    "        result.append(\"bold\")\n",
    "    if s and s[\"fontStyle\"] == \"italic\":\n",
    "        result.append(\"italic\")\n",
    "    return \"|\".join(result)\n",
    "\n",
    "\n",
    "def hilite(row, c):\n",
    "    color = _hilited_col(row, c)\n",
    "    if color:\n",
    "        return f\"#{color[2:]}\" if len(color) == 8 else f\"#{color}\"\n",
    "    return None\n",
    "\n",
    "\n",
    "def bold(c, style=None):\n",
    "    if c != IDX_COL:\n",
    "        return None\n",
    "    if not style:\n",
    "        return None\n",
    "    if \"bold\" in style:\n",
    "        return \"bold\"\n",
    "    return None\n",
    "\n",
    "\n",
    "def italic(c, style=None):\n",
    "    if c != IDX_COL:\n",
    "        return None\n",
    "    if not style:\n",
    "        return None\n",
    "    if \"italic\" in style:\n",
    "        return \"italic\"\n",
    "    return None"
   ]
  },
  {
   "cell_type": "code",
   "execution_count": null,
   "id": "2c614ada",
   "metadata": {},
   "outputs": [],
   "source": [
    "rows = [\n",
    "    [\"бꙑше H\", \"бꙑт\\ue205\", \"\", \"gramm.\", \"25/123b05\"]\n",
    "    + [\"om.\", \"\"] * 2\n",
    "    + [\"\"] * 3\n",
    "    + [\"gramm.\"]\n",
    "    + [\"\"] * 13\n",
    "    + [\"hl00:FFF8CBAD|hl03:FFBDD7EE\"]\n",
    "    + [\"1\"] * 4,\n",
    "    [\"рекл\\ue205 H\"]\n",
    "    + [\"\"] * 3\n",
    "    + [\"25/123b05\", \"рѣша\", \"ко г\\ue010лще рѣша• ꙗ-\", \"рещ\\ue205\"]\n",
    "    + [\"\"] * 3\n",
    "    + [\"φασὶν\", \"φημί\"]\n",
    "    + [\"\"] * 13\n",
    "    + [\"hl00:FFF8CBAD\"]\n",
    "    + [\"1\"] * 4,\n",
    "]\n",
    "\n",
    "\n",
    "input = sheet.sheet(rows=len(rows) + 1, columns=STYLE_COL)\n",
    "# styled = sheet.cell(1, 9, background_color=\"lightblue\")\n",
    "# rows = sheet.cell_range(rows)\n",
    "cells = [\n",
    "    [\n",
    "        sheet.cell(\n",
    "            r,\n",
    "            c,\n",
    "            rows[r][c],\n",
    "            background_color=hilite(vr, c),\n",
    "            font_style=italic(c, vr[STYLE_COL]),\n",
    "            font_weight=bold(c, vr[STYLE_COL]),\n",
    "        )\n",
    "        for c, vc in enumerate(vr[:STYLE_COL])\n",
    "    ]\n",
    "    for r, vr in enumerate(rows)\n",
    "]\n",
    "input"
   ]
  },
  {
   "cell_type": "markdown",
   "id": "f15dc16f",
   "metadata": {},
   "source": [
    "# Preprocess lines"
   ]
  },
  {
   "cell_type": "code",
   "execution_count": null,
   "id": "71d3deae",
   "metadata": {},
   "outputs": [],
   "source": [
    "lines = []\n",
    "blank = False\n",
    "for row in cells:\n",
    "    line = [cell.value.strip() if cell.value else cell.value for cell in row]\n",
    "    # Two consequent blank lines\n",
    "    if blank and not [l for l in line if l]:\n",
    "        break\n",
    "    irow = [v for v in row]\n",
    "    bgs = {\n",
    "        f\"hl{v:02d}\": irow[v].style[\"backgroundColor\"]\n",
    "        for v in sem.cols()\n",
    "        if \"backgroundColor\" in irow[v].style\n",
    "    }\n",
    "    line.append(_style2str(row[IDX_COL].style, bgs))\n",
    "    lines.append(line)\n",
    "    blank = not [l for l in line if l]\n",
    "print(f\"{len(lines)} думи\")"
   ]
  },
  {
   "cell_type": "code",
   "execution_count": null,
   "id": "71a87466",
   "metadata": {},
   "outputs": [],
   "source": [
    "print(lines)"
   ]
  },
  {
   "cell_type": "code",
   "execution_count": null,
   "id": "f7892362",
   "metadata": {},
   "outputs": [],
   "source": [
    "for p in pairs:\n",
    "    print(f\"Събиране на многоредови преводи {p.label}...\")\n",
    "    merged = merge(lines, p.orig, p.trans)\n",
    "    print(f\"{len(merged)} думи\")\n",
    "\n",
    "    print(f\"Кондензиране {p.label}...\")\n",
    "    before = len(p.result)\n",
    "    p.result = aggregate(merged, p.orig, p.trans, p.result)\n",
    "    after = len(p.result)\n",
    "    print(f\"{after-before} леми\")"
   ]
  },
  {
   "cell_type": "code",
   "execution_count": null,
   "id": "8e86bd07",
   "metadata": {},
   "outputs": [],
   "source": [
    "export_fname = \"temp.docx\""
   ]
  },
  {
   "cell_type": "markdown",
   "id": "4bf1cc32",
   "metadata": {},
   "source": [
    "# Експорт славянски..."
   ]
  },
  {
   "cell_type": "code",
   "execution_count": null,
   "id": "fe93f274",
   "metadata": {},
   "outputs": [],
   "source": [
    "export_docx(sla, FROM_LANG, export_fname)\n",
    "with open(export_fname, \"rb\") as docx_file:\n",
    "    result = mammoth.convert_to_html(docx_file)\n",
    "    print(result.messages)  # Any messages, such as warnings during conversion\n",
    "    display(HTML(result.value))"
   ]
  },
  {
   "cell_type": "markdown",
   "id": "edff7527",
   "metadata": {},
   "source": [
    "# Експорт гръцки..."
   ]
  },
  {
   "cell_type": "code",
   "execution_count": null,
   "id": "7a17eb19",
   "metadata": {},
   "outputs": [],
   "source": [
    "export_docx(gre, TO_LANG, export_fname)\n",
    "with open(export_fname, \"rb\") as docx_file:\n",
    "    result = mammoth.convert_to_html(docx_file)\n",
    "    print(result.messages)  # Any messages, such as warnings during conversion\n",
    "    display(HTML(result.value))"
   ]
  },
  {
   "cell_type": "markdown",
   "id": "d266ad0e",
   "metadata": {},
   "source": [
    "# Генериране славянски..."
   ]
  },
  {
   "cell_type": "code",
   "execution_count": null,
   "id": "dfeb105c",
   "metadata": {},
   "outputs": [],
   "source": [
    "generate_docx(sla, FROM_LANG, export_fname)\n",
    "with open(export_fname, \"rb\") as docx_file:\n",
    "    result = mammoth.convert_to_html(docx_file)\n",
    "    print(result.messages)  # Any messages, such as warnings during conversion\n",
    "    display(HTML(result.value))"
   ]
  },
  {
   "cell_type": "markdown",
   "id": "2a6a32b9",
   "metadata": {},
   "source": [
    "# Генериране гръцки..."
   ]
  },
  {
   "cell_type": "code",
   "execution_count": null,
   "id": "3f0da5d9",
   "metadata": {},
   "outputs": [],
   "source": [
    "generate_docx(gre, TO_LANG, export_fname)\n",
    "with open(export_fname, \"rb\") as docx_file:\n",
    "    result = mammoth.convert_to_html(docx_file)\n",
    "    print(result.messages)  # Any messages, such as warnings during conversion\n",
    "    display(HTML(result.value))"
   ]
  },
  {
   "cell_type": "code",
   "execution_count": null,
   "id": "4e79d0c5",
   "metadata": {},
   "outputs": [],
   "source": [
    "os.remove(export_fname)"
   ]
  }
 ],
 "metadata": {
  "kernelspec": {
   "display_name": "Python 3",
   "language": "python",
   "name": "python3"
  },
  "language_info": {
   "codemirror_mode": {
    "name": "ipython",
    "version": 3
   },
   "file_extension": ".py",
   "mimetype": "text/x-python",
   "name": "python",
   "nbconvert_exporter": "python",
   "pygments_lexer": "ipython3",
   "version": "3.8.10"
  }
 },
 "nbformat": 4,
 "nbformat_minor": 5
}
