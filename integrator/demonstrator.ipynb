{
 "cells": [
  {
   "cell_type": "code",
   "execution_count": 1,
   "id": "2259f72e",
   "metadata": {},
   "outputs": [],
   "source": [
    "from typing import Dict, Optional\n",
    "from sortedcontainers import SortedDict  # type: ignore\n",
    "import os\n",
    "\n",
    "import ipysheet as sheet\n",
    "from IPython.display import display, HTML\n",
    "import mammoth\n",
    "\n",
    "from const import IDX_COL, STYLE_COL\n",
    "from config import FROM_LANG, TO_LANG\n",
    "from setup import sl_sem, gr_sem\n",
    "\n",
    "from util import ord_word\n",
    "from semantics import TableSemantics\n",
    "\n",
    "from merger import merge\n",
    "from aggregator import aggregate\n",
    "from exporter import export_docx\n",
    "from generator import generate_docx\n"
   ]
  },
  {
   "cell_type": "code",
   "execution_count": 2,
   "id": "29cd7258",
   "metadata": {},
   "outputs": [],
   "source": [
    "sla = SortedDict(ord_word)\n",
    "gre = SortedDict(ord_word)\n",
    "\n",
    "pairs = [\n",
    "    TableSemantics(\n",
    "        sl_sem, gr_sem, label=\"от славянски основен към гръцки\", result=sla\n",
    "    ),\n",
    "    TableSemantics(\n",
    "        sl_sem.var, gr_sem, label=\"от славянски вариант към гръцки\", result=sla\n",
    "    ),\n",
    "    TableSemantics(\n",
    "        gr_sem, sl_sem, label=\"от гръцки основен към славянски\", result=gre\n",
    "    ),\n",
    "    TableSemantics(\n",
    "        gr_sem.var, sl_sem, label=\"от гръцки вариант към славянски\", result=gre\n",
    "    ),\n",
    "]\n",
    "sem = pairs[0]\n",
    "\n"
   ]
  },
  {
   "cell_type": "code",
   "execution_count": 3,
   "id": "e03e4226",
   "metadata": {},
   "outputs": [],
   "source": [
    "def _style2str(s: Dict[str,str], bgs: Dict[str, Optional[str]]) -> str:\n",
    "    \"\"\"take font style from index and presence of background in selected named columns\"\"\"\n",
    "    result = [k for k, v in bgs.items() if v]\n",
    "    if s and s['fontWeight'] == 'bold':\n",
    "        result.append(\"bold\")\n",
    "    if s and s['fontStyle'] == 'italic':\n",
    "        result.append(\"italic\")\n",
    "    return \"|\".join(result)\n"
   ]
  },
  {
   "cell_type": "code",
   "execution_count": 4,
   "id": "ba255fb1",
   "metadata": {},
   "outputs": [
    {
     "data": {
      "application/vnd.jupyter.widget-view+json": {
       "model_id": "3d86e13e8f55429c86594516d4eab9bd",
       "version_major": 2,
       "version_minor": 0
      },
      "text/plain": [
       "Sheet(cells=(Cell(column_end=0, column_start=0, row_end=0, row_start=0, type='text', value='вѣдѣл\\ue205 WG оув…"
      ]
     },
     "metadata": {},
     "output_type": "display_data"
    }
   ],
   "source": [
    "\n",
    "r1 = (\n",
    "    [\"вѣдѣл\\ue205 WG оувѣдѣл\\ue205 H\", \"ѹвѣдѣт\\ue205 H\"]\n",
    "    + [\"\"] * 2\n",
    "    + [\"12/67c10\", \"в\\ue205дѣл\\ue205\", \"в\\ue205дѣл\\ue205 бꙑхо-\", \"в\\ue205дѣт\\ue205\"]\n",
    "    + [\"\"] * 3\n",
    "    + [\"ἔγνωμεν\", \"γιγνώσκω\"]\n",
    "    + [\"\"] * 13\n",
    ")\n",
    "r2 = (\n",
    "    [\"\"] * 4\n",
    "    + [\"12/67c10\", \"бꙑхомъ•\", \"в\\ue205дѣл\\ue205 бꙑхо-\", \"бꙑт\\ue205\"]\n",
    "    + [\"\", \"gramm.\", \"\"] * 2 + [\"\"]* 12\n",
    ")\n",
    "rows = (r1, r2)\n",
    "input = sheet.sheet(rows=len(rows), columns=STYLE_COL)\n",
    "# styled = sheet.cell(1, 9, background_color=\"lightblue\")\n",
    "# rows = sheet.cell_range(rows)\n",
    "cells = [[sheet.cell(r,c, rows[r][c], background_color='lightblue' if r==1 and c==9 else None) for c, vc in enumerate(r1)] for r, vr in enumerate(rows)]\n",
    "input"
   ]
  },
  {
   "cell_type": "code",
   "execution_count": 5,
   "id": "e05c3891",
   "metadata": {},
   "outputs": [
    {
     "name": "stdout",
     "output_type": "stream",
     "text": [
      "2 думи\n"
     ]
    }
   ],
   "source": [
    "lines = []\n",
    "blank = False\n",
    "for row in cells:\n",
    "    line = [cell.value.strip() if cell.value else cell.value for cell in row]\n",
    "    # Two consequent blank lines\n",
    "    if blank and not [l for l in line if l]:\n",
    "        break\n",
    "    irow = [v for v in row]\n",
    "    bgs = {f\"hl{v:02d}\": irow[v].style['backgroundColor'] for v in sem.cols() if 'backgroundColor' in irow[v].style}\n",
    "    line.append(_style2str(row[IDX_COL].style, bgs))\n",
    "    lines.append(line)\n",
    "    blank = not [l for l in line if l]\n",
    "print(f\"{len(lines)} думи\")"
   ]
  },
  {
   "cell_type": "code",
   "execution_count": 6,
   "id": "405d8ce9",
   "metadata": {},
   "outputs": [
    {
     "name": "stdout",
     "output_type": "stream",
     "text": [
      "Събиране на многоредови преводи от славянски основен към гръцки...\n",
      "2 думи\n",
      "Кондензиране от славянски основен към гръцки...\n",
      "2 леми\n",
      "Събиране на многоредови преводи от славянски вариант към гръцки...\n",
      "2 думи\n",
      "Кондензиране от славянски вариант към гръцки...\n",
      "1 леми\n",
      "Събиране на многоредови преводи от гръцки основен към славянски...\n",
      "2 думи\n",
      "Кондензиране от гръцки основен към славянски...\n",
      "2 леми\n",
      "Събиране на многоредови преводи от гръцки вариант към славянски...\n",
      "2 думи\n",
      "Кондензиране от гръцки вариант към славянски...\n",
      "0 леми\n"
     ]
    }
   ],
   "source": [
    "for p in pairs:\n",
    "    print(f\"Събиране на многоредови преводи {p.label}...\")\n",
    "    merged = merge(lines, p.orig, p.trans)\n",
    "    print(f\"{len(merged)} думи\")\n",
    "\n",
    "    print(f\"Кондензиране {p.label}...\")\n",
    "    before = len(p.result)\n",
    "    p.result = aggregate(merged, p.orig, p.trans, p.result)\n",
    "    after = len(p.result)\n",
    "    print(f\"{after-before} леми\")\n"
   ]
  },
  {
   "cell_type": "code",
   "execution_count": 7,
   "id": "a6fa131d",
   "metadata": {},
   "outputs": [],
   "source": [
    "export_fname = \"temp.docx\"\n"
   ]
  },
  {
   "cell_type": "code",
   "execution_count": 8,
   "id": "9fcd2207",
   "metadata": {},
   "outputs": [
    {
     "name": "stdout",
     "output_type": "stream",
     "text": [
      "Генериране славянски...\n",
      "[]\n"
     ]
    },
    {
     "data": {
      "text/html": [
       "<p><strong>бꙑт</strong> (1)</p><p>| | gramm. (1)</p><ul><li>gramm. (1): 12/67c10</li></ul><p><strong>вдѣт</strong> (1)</p><ul><li>γιγνώσκω (1): 12/67c10 » [ѹвѣдѣт<sup>H</sup>]</li></ul><p><strong>ѹвѣдѣт</strong> (1<sup>var</sup>)</p><ul><li>γιγνώσκω (1): 12/67c10<sup>H</sup> » вдѣт S</li></ul>"
      ],
      "text/plain": [
       "<IPython.core.display.HTML object>"
      ]
     },
     "metadata": {},
     "output_type": "display_data"
    }
   ],
   "source": [
    "print(\"Генериране славянски...\")\n",
    "generate_docx(sla, FROM_LANG, export_fname)\n",
    "with open(export_fname, \"rb\") as docx_file:\n",
    "    result = mammoth.convert_to_html(docx_file)\n",
    "    print(result.messages) # Any messages, such as warnings during conversion\n",
    "    display(HTML(result.value))    "
   ]
  },
  {
   "cell_type": "code",
   "execution_count": 9,
   "id": "e1073ea8",
   "metadata": {},
   "outputs": [
    {
     "name": "stdout",
     "output_type": "stream",
     "text": [
      "Генериране гръцки...\n",
      "[]\n"
     ]
    },
    {
     "data": {
      "text/html": [
       "<p><strong>γιγνώσκω</strong> (1)</p><ul><li>вдѣт (1): 12/67c10 » [ѹвѣдѣт<sup>H</sup>]</li><li>ѹвѣдѣт (1<sup>var</sup>): 12/67c10<sup>H</sup> » вдѣт S</li></ul><p><strong>gramm.</strong> (1)</p><ul><li>бꙑт gramm. (1): 12/67c10</li></ul>"
      ],
      "text/plain": [
       "<IPython.core.display.HTML object>"
      ]
     },
     "metadata": {},
     "output_type": "display_data"
    }
   ],
   "source": [
    "print(\"Генериране гръцки...\")\n",
    "generate_docx(gre, TO_LANG, export_fname)\n",
    "with open(export_fname, \"rb\") as docx_file:\n",
    "    result = mammoth.convert_to_html(docx_file)\n",
    "    print(result.messages) # Any messages, such as warnings during conversion\n",
    "    display(HTML(result.value))    "
   ]
  },
  {
   "cell_type": "code",
   "execution_count": 10,
   "id": "e8425ee9",
   "metadata": {},
   "outputs": [
    {
     "name": "stdout",
     "output_type": "stream",
     "text": [
      "Експорт славянски...\n",
      "[]\n"
     ]
    },
    {
     "data": {
      "text/html": [
       "<p> бꙑт</p><p>| |  gramm.</p><p>gramm.: бꙑхомъ•/ (12/67c10)</p><p> вдѣт</p><p>γιγνώσκω: вдѣл/ἔγνωμεν (12/67c10 » [оувѣдѣл H])</p><p> ѹвѣдѣт</p><p>γιγνώσκω: оувѣдѣл H/ἔγνωμεν (12/67c10<sup>H</sup> » вдѣл S)</p>"
      ],
      "text/plain": [
       "<IPython.core.display.HTML object>"
      ]
     },
     "metadata": {},
     "output_type": "display_data"
    }
   ],
   "source": [
    "print(\"Експорт славянски...\")\n",
    "export_docx(sla, FROM_LANG, export_fname)\n",
    "with open(export_fname, \"rb\") as docx_file:\n",
    "    result = mammoth.convert_to_html(docx_file)\n",
    "    print(result.messages) # Any messages, such as warnings during conversion\n",
    "    display(HTML(result.value))    "
   ]
  },
  {
   "cell_type": "code",
   "execution_count": 11,
   "id": "d08f1acc",
   "metadata": {},
   "outputs": [
    {
     "name": "stdout",
     "output_type": "stream",
     "text": [
      "Експорт гръцки...\n",
      "[]\n"
     ]
    },
    {
     "data": {
      "text/html": [
       "<p> γιγνώσκω</p><p>вдѣт: ἔγνωμεν/вдѣл (12/67c10 » [оувѣдѣл H])</p><p>ѹвѣдѣт: ἔγνωμεν/оувѣдѣл H (12/67c10<sup>H</sup> » вдѣл S)</p><p> gramm.</p><p>бꙑт gramm.: /бꙑхомъ• (12/67c10)</p>"
      ],
      "text/plain": [
       "<IPython.core.display.HTML object>"
      ]
     },
     "metadata": {},
     "output_type": "display_data"
    }
   ],
   "source": [
    "print(\"Експорт гръцки...\")\n",
    "export_docx(gre, TO_LANG, export_fname)\n",
    "with open(export_fname, \"rb\") as docx_file:\n",
    "    result = mammoth.convert_to_html(docx_file)\n",
    "    print(result.messages) # Any messages, such as warnings during conversion\n",
    "    display(HTML(result.value))    "
   ]
  },
  {
   "cell_type": "code",
   "execution_count": 12,
   "id": "f4fc6864",
   "metadata": {},
   "outputs": [],
   "source": [
    "os.remove(export_fname)"
   ]
  }
 ],
 "metadata": {
  "kernelspec": {
   "display_name": "Python 3.6.9 64-bit",
   "language": "python",
   "name": "python36964bit453c4b6597f24ab9ac0adcd72b107f41"
  },
  "language_info": {
   "codemirror_mode": {
    "name": "ipython",
    "version": 3
   },
   "file_extension": ".py",
   "mimetype": "text/x-python",
   "name": "python",
   "nbconvert_exporter": "python",
   "pygments_lexer": "ipython3",
   "version": "3.8.10"
  }
 },
 "nbformat": 4,
 "nbformat_minor": 5
}
