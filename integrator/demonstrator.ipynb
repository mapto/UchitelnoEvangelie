{
 "cells": [
  {
   "cell_type": "code",
   "execution_count": null,
   "id": "58f84206",
   "metadata": {},
   "outputs": [],
   "source": [
    "from typing import Dict, Optional\n",
    "from sortedcontainers import SortedDict  # type: ignore\n",
    "import os\n",
    "\n",
    "import ipysheet as sheet\n",
    "from IPython.display import display, HTML\n",
    "import mammoth\n",
    "\n",
    "from const import IDX_COL, STYLE_COL\n",
    "from config import FROM_LANG, TO_LANG\n",
    "from setup import sl_sem, gr_sem\n",
    "\n",
    "from util import ord_word\n",
    "from semantics import TableSemantics\n",
    "\n",
    "from merger import merge\n",
    "from aggregator import aggregate\n",
    "from exporter import export_docx\n",
    "from generator import generate_docx"
   ]
  },
  {
   "cell_type": "code",
   "execution_count": null,
   "id": "4586d455",
   "metadata": {},
   "outputs": [],
   "source": [
    "sla = SortedDict(ord_word)\n",
    "gre = SortedDict(ord_word)\n",
    "\n",
    "pairs = [\n",
    "    TableSemantics(sl_sem, gr_sem, label=\"от славянски основен към гръцки\", result=sla),\n",
    "    TableSemantics(\n",
    "        sl_sem.var, gr_sem, label=\"от славянски вариант към гръцки\", result=sla\n",
    "    ),\n",
    "    TableSemantics(gr_sem, sl_sem, label=\"от гръцки основен към славянски\", result=gre),\n",
    "    TableSemantics(\n",
    "        gr_sem.var, sl_sem, label=\"от гръцки вариант към славянски\", result=gre\n",
    "    ),\n",
    "]\n",
    "sem = pairs[0]"
   ]
  },
  {
   "cell_type": "code",
   "execution_count": null,
   "id": "22f85015",
   "metadata": {},
   "outputs": [],
   "source": [
    "def _style2str(s: Dict[str, str], bgs: Dict[str, Optional[str]]) -> str:\n",
    "    \"\"\"take font style from index and presence of background in selected named columns\"\"\"\n",
    "    result = [k for k, v in bgs.items() if v]\n",
    "    if s and s[\"fontWeight\"] == \"bold\":\n",
    "        result.append(\"bold\")\n",
    "    if s and s[\"fontStyle\"] == \"italic\":\n",
    "        result.append(\"italic\")\n",
    "    return \"|\".join(result)"
   ]
  },
  {
   "cell_type": "code",
   "execution_count": null,
   "id": "f38d76e0",
   "metadata": {},
   "outputs": [],
   "source": [
    "rows = [\n",
    "    [\"\"] * 4\n",
    "    + [\n",
    "        \"1/W168a14\",\n",
    "        \"вьꙁмогл\\ue205\",\n",
    "        \"мы брьньн\\ue205 \\ue205 ꙁемⷧ҇ьн\\ue205\\ue205• вьꙁмогл\\ue205\",\n",
    "        \"въꙁмощ\\ue205\",\n",
    "    ]\n",
    "    + [\"\"] * 3\n",
    "    + [\"ἠδυνήθημεν\", \"δύναμαι\"]\n",
    "    + [\"\"] * 13,\n",
    "    [\"\"] * 4\n",
    "    + [\n",
    "        \"1/W168a15\",\n",
    "        \"б\\ue205хомь\",\n",
    "        \"б\\ue205хомь стрьпѣтї•\",\n",
    "        \"бꙑт\\ue205\",\n",
    "        \"\",\n",
    "        \"gramm.\",\n",
    "        \"\",\n",
    "        \"\",\n",
    "        \"pass.\",\n",
    "    ]\n",
    "    + [\"\"] * 13,\n",
    "]\n",
    "\n",
    "\n",
    "def hilite(r, c):\n",
    "    if c == 5:\n",
    "        return \"moccasin\"\n",
    "    if r == 1 and c == 9:\n",
    "        return \"lightblue\"\n",
    "    return None\n",
    "\n",
    "\n",
    "def bold(r, c):\n",
    "    if c == 7:\n",
    "        return \"bold\"\n",
    "    return None\n",
    "\n",
    "\n",
    "input = sheet.sheet(rows=len(rows) + 1, columns=STYLE_COL)\n",
    "# styled = sheet.cell(1, 9, background_color=\"lightblue\")\n",
    "# rows = sheet.cell_range(rows)\n",
    "cells = [\n",
    "    [\n",
    "        sheet.cell(\n",
    "            r, c, rows[r][c], background_color=hilite(r, c), font_weight=bold(r, c)\n",
    "        )\n",
    "        for c, vc in enumerate(vr)\n",
    "    ]\n",
    "    for r, vr in enumerate(rows)\n",
    "]\n",
    "input"
   ]
  },
  {
   "cell_type": "code",
   "execution_count": null,
   "id": "a04a4aa2",
   "metadata": {},
   "outputs": [],
   "source": [
    "lines = []\n",
    "blank = False\n",
    "for row in cells:\n",
    "    line = [cell.value.strip() if cell.value else cell.value for cell in row]\n",
    "    # Two consequent blank lines\n",
    "    if blank and not [l for l in line if l]:\n",
    "        break\n",
    "    irow = [v for v in row]\n",
    "    bgs = {\n",
    "        f\"hl{v:02d}\": irow[v].style[\"backgroundColor\"]\n",
    "        for v in sem.cols()\n",
    "        if \"backgroundColor\" in irow[v].style\n",
    "    }\n",
    "    line.append(_style2str(row[IDX_COL].style, bgs))\n",
    "    lines.append(line)\n",
    "    blank = not [l for l in line if l]\n",
    "print(f\"{len(lines)} думи\")"
   ]
  },
  {
   "cell_type": "code",
   "execution_count": null,
   "id": "55e8612a",
   "metadata": {},
   "outputs": [],
   "source": [
    "print(lines)"
   ]
  },
  {
   "cell_type": "code",
   "execution_count": null,
   "id": "d4915b52",
   "metadata": {},
   "outputs": [],
   "source": [
    "for p in pairs:\n",
    "    print(f\"Събиране на многоредови преводи {p.label}...\")\n",
    "    merged = merge(lines, p.orig, p.trans)\n",
    "    print(f\"{len(merged)} думи\")\n",
    "\n",
    "    print(f\"Кондензиране {p.label}...\")\n",
    "    before = len(p.result)\n",
    "    p.result = aggregate(merged, p.orig, p.trans, p.result)\n",
    "    after = len(p.result)\n",
    "    print(f\"{after-before} леми\")"
   ]
  },
  {
   "cell_type": "code",
   "execution_count": null,
   "id": "50cfe47a",
   "metadata": {},
   "outputs": [],
   "source": [
    "export_fname = \"temp.docx\""
   ]
  },
  {
   "cell_type": "code",
   "execution_count": null,
   "id": "20f40469",
   "metadata": {},
   "outputs": [],
   "source": [
    "print(\"Експорт славянски...\")\n",
    "export_docx(sla, FROM_LANG, export_fname)\n",
    "with open(export_fname, \"rb\") as docx_file:\n",
    "    result = mammoth.convert_to_html(docx_file)\n",
    "    print(result.messages)  # Any messages, such as warnings during conversion\n",
    "    display(HTML(result.value))"
   ]
  },
  {
   "cell_type": "code",
   "execution_count": null,
   "id": "a5ca8750",
   "metadata": {},
   "outputs": [],
   "source": [
    "print(\"Експорт гръцки...\")\n",
    "export_docx(gre, TO_LANG, export_fname)\n",
    "with open(export_fname, \"rb\") as docx_file:\n",
    "    result = mammoth.convert_to_html(docx_file)\n",
    "    print(result.messages)  # Any messages, such as warnings during conversion\n",
    "    display(HTML(result.value))"
   ]
  },
  {
   "cell_type": "code",
   "execution_count": null,
   "id": "b315618e",
   "metadata": {},
   "outputs": [],
   "source": [
    "print(\"Генериране славянски...\")\n",
    "generate_docx(sla, FROM_LANG, export_fname)\n",
    "with open(export_fname, \"rb\") as docx_file:\n",
    "    result = mammoth.convert_to_html(docx_file)\n",
    "    print(result.messages)  # Any messages, such as warnings during conversion\n",
    "    display(HTML(result.value))"
   ]
  },
  {
   "cell_type": "code",
   "execution_count": null,
   "id": "a1ebc227",
   "metadata": {},
   "outputs": [],
   "source": [
    "print(\"Генериране гръцки...\")\n",
    "generate_docx(gre, TO_LANG, export_fname)\n",
    "with open(export_fname, \"rb\") as docx_file:\n",
    "    result = mammoth.convert_to_html(docx_file)\n",
    "    print(result.messages)  # Any messages, such as warnings during conversion\n",
    "    display(HTML(result.value))"
   ]
  },
  {
   "cell_type": "code",
   "execution_count": null,
   "id": "0b328ba4",
   "metadata": {},
   "outputs": [],
   "source": [
    "os.remove(export_fname)"
   ]
  }
 ],
 "metadata": {
  "kernelspec": {
   "display_name": "Python 3",
   "language": "python",
   "name": "python3"
  },
  "language_info": {
   "codemirror_mode": {
    "name": "ipython",
    "version": 3
   },
   "file_extension": ".py",
   "mimetype": "text/x-python",
   "name": "python",
   "nbconvert_exporter": "python",
   "pygments_lexer": "ipython3",
   "version": "3.8.10"
  }
 },
 "nbformat": 4,
 "nbformat_minor": 5
}
